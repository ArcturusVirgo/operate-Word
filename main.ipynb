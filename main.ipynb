{
 "cells": [
  {
   "cell_type": "code",
   "execution_count": 5,
   "metadata": {
    "collapsed": true
   },
   "outputs": [],
   "source": [
    "import os\n",
    "from pprint import pprint\n",
    "\n",
    "from docx import Document\n",
    "from openpyxl import load_workbook\n",
    "import pandas as pd"
   ]
  },
  {
   "cell_type": "code",
   "execution_count": 6,
   "outputs": [],
   "source": [
    "folder = '2-docx'\n",
    "files = os.listdir(f'./{folder}')\n",
    "\n",
    "df = pd.DataFrame(\n",
    "                columns=[],\n",
    "                index=[])"
   ],
   "metadata": {
    "collapsed": false,
    "pycharm": {
     "name": "#%%\n"
    }
   }
  },
  {
   "cell_type": "code",
   "execution_count": 7,
   "outputs": [],
   "source": [
    "for file in files:\n",
    "    path = f'./{folder}/{file}'\n",
    "    scored = file.strip('.docx')\n",
    "    document = Document(path)  # 读入文件\n",
    "    tables = document.tables  # 获取文件中的表格集\n",
    "    table = tables[0]  # 获取文件中的第一个表格\n",
    "    for i in range(3, len(table.rows)):  # 从表格第二行开始循环读取表格数据\n",
    "        num = table.cell(i, 0).text\n",
    "        name = table.cell(i, 1).text\n",
    "        class_ = table.cell(i, 2).text\n",
    "        score_1 = table.cell(i, 3).text.strip('\\n').strip('　').strip(' ')\n",
    "        score_2 = table.cell(i, 4).text.strip('\\n').strip('　').strip(' ')\n",
    "        score_3 = table.cell(i, 5).text.strip('\\n').strip('　').strip(' ')\n",
    "        # print(name + scored + score_1 + score_2 + score_3)\n",
    "        try:\n",
    "            score_1 = eval(score_1)\n",
    "        except:\n",
    "            pass\n",
    "        try:\n",
    "            score_2 = eval(score_2)\n",
    "        except:\n",
    "            pass\n",
    "        try:\n",
    "            score_3 = eval(score_3)\n",
    "        except:\n",
    "            pass\n",
    "        df.loc[name, scored + '-入党动机'] = score_1\n",
    "        # df.loc[name, scored + '-党史党章'] = score_2\n",
    "        df.loc[name, scored + '-大学的规划和总结'] = score_2\n",
    "        df.loc[name, scored + '-时事政治'] = score_3"
   ],
   "metadata": {
    "collapsed": false,
    "pycharm": {
     "name": "#%%\n"
    }
   }
  },
  {
   "cell_type": "code",
   "execution_count": 8,
   "outputs": [],
   "source": [
    "df.to_excel('./积极分子-2.xlsx')"
   ],
   "metadata": {
    "collapsed": false,
    "pycharm": {
     "name": "#%%\n"
    }
   }
  }
 ],
 "metadata": {
  "kernelspec": {
   "name": "pycharm-a8528d90",
   "language": "python",
   "display_name": "PyCharm (操作办公文档)"
  },
  "language_info": {
   "codemirror_mode": {
    "name": "ipython",
    "version": 2
   },
   "file_extension": ".py",
   "mimetype": "text/x-python",
   "name": "python",
   "nbconvert_exporter": "python",
   "pygments_lexer": "ipython2",
   "version": "2.7.6"
  }
 },
 "nbformat": 4,
 "nbformat_minor": 0
}