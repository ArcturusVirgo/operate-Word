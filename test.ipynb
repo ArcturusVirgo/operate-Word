{
 "cells": [
  {
   "cell_type": "code",
   "execution_count": 2,
   "metadata": {
    "collapsed": true
   },
   "outputs": [],
   "source": [
    "import os\n",
    "from docx import Document\n",
    "import pandas as pd"
   ]
  },
  {
   "cell_type": "code",
   "execution_count": 3,
   "outputs": [],
   "source": [
    "data = {}\n",
    "repeat = {}\n",
    "files = os.listdir('./docx')\n",
    "text = []"
   ],
   "metadata": {
    "collapsed": false,
    "pycharm": {
     "name": "#%%\n"
    }
   }
  },
  {
   "cell_type": "code",
   "source": [
    "for file in files:\n",
    "    path = f'./docx/{file}'\n",
    "    document = Document(path)  # 读入文件\n",
    "    tables = document.tables  # 获取文件中的表格集\n",
    "    table = tables[0]  # 获取文件中的第一个表格\n",
    "    for i in range(3, len(table.rows) - 1):  # 从表格第二行开始循环读取表格数据\n",
    "        num = table.cell(i, 0).text\n",
    "        name = table.cell(i, 1).text\n",
    "        class_ = table.cell(i, 2).text\n",
    "        score_1 = table.cell(i, 3).text\n",
    "        score_2 = table.cell(i, 4).text\n",
    "        score_3 = table.cell(i, 5).text\n",
    "\n",
    "        data[name] = data.get(name, []) + [score_1, score_2, score_3]"
   ],
   "metadata": {
    "collapsed": false,
    "pycharm": {
     "name": "#%%\n"
    }
   },
   "execution_count": 4,
   "outputs": []
  },
  {
   "cell_type": "code",
   "execution_count": 12,
   "outputs": [
    {
     "data": {
      "text/plain": "     0   1   2   3   4   5   6   7   8   9   ...  20  21  22  23  24  25  26  \\\n张曼玉  93  95  90  88  90  59  96  95  94  83  ...  75  90  90  91  90  95  90   \n郭逸敏               -   -   -  95  93  94      ...                               \n姜彦君               -   -   -  94  94  95      ...                               \n孙媛媛  90  95  90  89  90  91  89  90  92  80  ...  70  88  85  85  88  92  86   \n杨阳   95  95  90  90  89  94  88  89  89  95  ...  75  88  82  83  85  91  87   \n..   ..  ..  ..  ..  ..  ..  ..  ..  ..  ..  ...  ..  ..  ..  ..  ..  ..  ..   \n蒲俊                                           ...   无  96  95  93               \n孙静文  96  95  96  97  97  97  94  95  94  95  ...  90  95  96  93  85  87  85   \n魏晋丽  96  96  96  97  98  96  95  94  96  93  ...  92  94  95  95  85  85  84   \n贾慧莉  96  96  95  96  97  96  93  94  94  90  ...  90  93  95  96  85  85  85   \n刘渊                                           ...   无  94  93  96               \n\n       27    28    29  \n张曼玉    85    90    88  \n郭逸敏     0              \n姜彦君     0              \n孙媛媛    88    90    82  \n杨阳     92    90    90  \n..    ...   ...   ...  \n蒲俊   None  None  None  \n孙静文  None  None  None  \n魏晋丽  None  None  None  \n贾慧莉  None  None  None  \n刘渊   None  None  None  \n\n[79 rows x 30 columns]",
      "text/html": "<div>\n<style scoped>\n    .dataframe tbody tr th:only-of-type {\n        vertical-align: middle;\n    }\n\n    .dataframe tbody tr th {\n        vertical-align: top;\n    }\n\n    .dataframe thead th {\n        text-align: right;\n    }\n</style>\n<table border=\"1\" class=\"dataframe\">\n  <thead>\n    <tr style=\"text-align: right;\">\n      <th></th>\n      <th>0</th>\n      <th>1</th>\n      <th>2</th>\n      <th>3</th>\n      <th>4</th>\n      <th>5</th>\n      <th>6</th>\n      <th>7</th>\n      <th>8</th>\n      <th>9</th>\n      <th>...</th>\n      <th>20</th>\n      <th>21</th>\n      <th>22</th>\n      <th>23</th>\n      <th>24</th>\n      <th>25</th>\n      <th>26</th>\n      <th>27</th>\n      <th>28</th>\n      <th>29</th>\n    </tr>\n  </thead>\n  <tbody>\n    <tr>\n      <th>张曼玉</th>\n      <td>93</td>\n      <td>95</td>\n      <td>90</td>\n      <td>88</td>\n      <td>90</td>\n      <td>59</td>\n      <td>96</td>\n      <td>95</td>\n      <td>94</td>\n      <td>83</td>\n      <td>...</td>\n      <td>75</td>\n      <td>90</td>\n      <td>90</td>\n      <td>91</td>\n      <td>90</td>\n      <td>95</td>\n      <td>90</td>\n      <td>85</td>\n      <td>90</td>\n      <td>88</td>\n    </tr>\n    <tr>\n      <th>郭逸敏</th>\n      <td></td>\n      <td></td>\n      <td></td>\n      <td>-</td>\n      <td>-</td>\n      <td>-</td>\n      <td>95</td>\n      <td>93</td>\n      <td>94</td>\n      <td></td>\n      <td>...</td>\n      <td></td>\n      <td></td>\n      <td></td>\n      <td></td>\n      <td></td>\n      <td></td>\n      <td></td>\n      <td>0</td>\n      <td></td>\n      <td></td>\n    </tr>\n    <tr>\n      <th>姜彦君</th>\n      <td></td>\n      <td></td>\n      <td></td>\n      <td>-</td>\n      <td>-</td>\n      <td>-</td>\n      <td>94</td>\n      <td>94</td>\n      <td>95</td>\n      <td></td>\n      <td>...</td>\n      <td></td>\n      <td></td>\n      <td></td>\n      <td></td>\n      <td></td>\n      <td></td>\n      <td></td>\n      <td>0</td>\n      <td></td>\n      <td></td>\n    </tr>\n    <tr>\n      <th>孙媛媛</th>\n      <td>90</td>\n      <td>95</td>\n      <td>90</td>\n      <td>89</td>\n      <td>90</td>\n      <td>91</td>\n      <td>89</td>\n      <td>90</td>\n      <td>92</td>\n      <td>80</td>\n      <td>...</td>\n      <td>70</td>\n      <td>88</td>\n      <td>85</td>\n      <td>85</td>\n      <td>88</td>\n      <td>92</td>\n      <td>86</td>\n      <td>88</td>\n      <td>90</td>\n      <td>82</td>\n    </tr>\n    <tr>\n      <th>杨阳</th>\n      <td>95</td>\n      <td>95</td>\n      <td>90</td>\n      <td>90</td>\n      <td>89</td>\n      <td>94</td>\n      <td>88</td>\n      <td>89</td>\n      <td>89</td>\n      <td>95</td>\n      <td>...</td>\n      <td>75</td>\n      <td>88</td>\n      <td>82</td>\n      <td>83</td>\n      <td>85</td>\n      <td>91</td>\n      <td>87</td>\n      <td>92</td>\n      <td>90</td>\n      <td>90</td>\n    </tr>\n    <tr>\n      <th>...</th>\n      <td>...</td>\n      <td>...</td>\n      <td>...</td>\n      <td>...</td>\n      <td>...</td>\n      <td>...</td>\n      <td>...</td>\n      <td>...</td>\n      <td>...</td>\n      <td>...</td>\n      <td>...</td>\n      <td>...</td>\n      <td>...</td>\n      <td>...</td>\n      <td>...</td>\n      <td>...</td>\n      <td>...</td>\n      <td>...</td>\n      <td>...</td>\n      <td>...</td>\n      <td>...</td>\n    </tr>\n    <tr>\n      <th>蒲俊</th>\n      <td></td>\n      <td></td>\n      <td></td>\n      <td></td>\n      <td></td>\n      <td></td>\n      <td></td>\n      <td></td>\n      <td></td>\n      <td></td>\n      <td>...</td>\n      <td>无</td>\n      <td>96</td>\n      <td>95</td>\n      <td>93</td>\n      <td></td>\n      <td></td>\n      <td></td>\n      <td>None</td>\n      <td>None</td>\n      <td>None</td>\n    </tr>\n    <tr>\n      <th>孙静文</th>\n      <td>96</td>\n      <td>95</td>\n      <td>96</td>\n      <td>97</td>\n      <td>97</td>\n      <td>97</td>\n      <td>94</td>\n      <td>95</td>\n      <td>94</td>\n      <td>95</td>\n      <td>...</td>\n      <td>90</td>\n      <td>95</td>\n      <td>96</td>\n      <td>93</td>\n      <td>85</td>\n      <td>87</td>\n      <td>85</td>\n      <td>None</td>\n      <td>None</td>\n      <td>None</td>\n    </tr>\n    <tr>\n      <th>魏晋丽</th>\n      <td>96</td>\n      <td>96</td>\n      <td>96</td>\n      <td>97</td>\n      <td>98</td>\n      <td>96</td>\n      <td>95</td>\n      <td>94</td>\n      <td>96</td>\n      <td>93</td>\n      <td>...</td>\n      <td>92</td>\n      <td>94</td>\n      <td>95</td>\n      <td>95</td>\n      <td>85</td>\n      <td>85</td>\n      <td>84</td>\n      <td>None</td>\n      <td>None</td>\n      <td>None</td>\n    </tr>\n    <tr>\n      <th>贾慧莉</th>\n      <td>96</td>\n      <td>96</td>\n      <td>95</td>\n      <td>96</td>\n      <td>97</td>\n      <td>96</td>\n      <td>93</td>\n      <td>94</td>\n      <td>94</td>\n      <td>90</td>\n      <td>...</td>\n      <td>90</td>\n      <td>93</td>\n      <td>95</td>\n      <td>96</td>\n      <td>85</td>\n      <td>85</td>\n      <td>85</td>\n      <td>None</td>\n      <td>None</td>\n      <td>None</td>\n    </tr>\n    <tr>\n      <th>刘渊</th>\n      <td></td>\n      <td></td>\n      <td></td>\n      <td></td>\n      <td></td>\n      <td></td>\n      <td></td>\n      <td></td>\n      <td></td>\n      <td></td>\n      <td>...</td>\n      <td>无</td>\n      <td>94</td>\n      <td>93</td>\n      <td>96</td>\n      <td></td>\n      <td></td>\n      <td></td>\n      <td>None</td>\n      <td>None</td>\n      <td>None</td>\n    </tr>\n  </tbody>\n</table>\n<p>79 rows × 30 columns</p>\n</div>"
     },
     "execution_count": 12,
     "metadata": {},
     "output_type": "execute_result"
    }
   ],
   "source": [
    "data_pd = pd.DataFrame(list(data.values()), index=list(data.keys()))\n",
    "data_pd"
   ],
   "metadata": {
    "collapsed": false,
    "pycharm": {
     "name": "#%%\n"
    }
   }
  }
 ],
 "metadata": {
  "kernelspec": {
   "name": "pycharm-a8528d90",
   "language": "python",
   "display_name": "PyCharm (操作办公文档)"
  },
  "language_info": {
   "codemirror_mode": {
    "name": "ipython",
    "version": 2
   },
   "file_extension": ".py",
   "mimetype": "text/x-python",
   "name": "python",
   "nbconvert_exporter": "python",
   "pygments_lexer": "ipython2",
   "version": "2.7.6"
  }
 },
 "nbformat": 4,
 "nbformat_minor": 0
}